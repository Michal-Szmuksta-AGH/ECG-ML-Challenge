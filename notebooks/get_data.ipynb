{
 "cells": [
  {
   "cell_type": "code",
   "execution_count": 2,
   "metadata": {},
   "outputs": [
    {
     "name": "stdout",
     "output_type": "stream",
     "text": [
      "Baza danych już istnieje w podanej lokalizacji.\n"
     ]
    }
   ],
   "source": [
    "import os\n",
    "import wfdb\n",
    "\n",
    "# Ścieżka do katalogu z bazą\n",
    "data_dir = '../data/raw/mit-bih-arrhythmia-database'\n",
    "\n",
    "# Sprawdź, czy baza danych jest już pobrana\n",
    "if not os.path.exists(data_dir) or len(os.listdir(data_dir)) == 0:\n",
    "    print(\"Baza danych nie jest pobrana. Pobieranie...\")\n",
    "    wfdb.dl_database('mitdb', dl_dir=data_dir)\n",
    "    print(\"Baza danych została pobrana.\")\n",
    "else:\n",
    "    print(\"Baza danych już istnieje w podanej lokalizacji.\")"
   ]
  }
 ],
 "metadata": {
  "kernelspec": {
   "display_name": "general",
   "language": "python",
   "name": "python3"
  },
  "language_info": {
   "codemirror_mode": {
    "name": "ipython",
    "version": 3
   },
   "file_extension": ".py",
   "mimetype": "text/x-python",
   "name": "python",
   "nbconvert_exporter": "python",
   "pygments_lexer": "ipython3",
   "version": "3.11.10"
  }
 },
 "nbformat": 4,
 "nbformat_minor": 2
}
